{
  "cells": [
    {
      "attachments": {},
      "cell_type": "markdown",
      "metadata": {
        "id": "H9wADwK78DCz"
      },
      "source": [
        "# UAS Project Streamlit: \n",
        "- **Nama:** Syahrizal Yonanda Mahfiridho\n",
        "- **Dataset:** https://www.kaggle.com/datasets/jessemostipak/hotel-booking-demand\n",
        "- **URL Website:** [Di isi jika web streamlit di upload]\n",
        "\n"
      ]
    },
    {
      "cell_type": "markdown",
      "metadata": {
        "id": "eE0raob58DC0"
      },
      "source": [
        "## Menentukan Pertanyaan Bisnis"
      ]
    },
    {
      "attachments": {},
      "cell_type": "markdown",
      "metadata": {
        "id": "GmQeQ5YF8DC0"
      },
      "source": [
        "- Bagaimana variasi harga menurut musim?\n",
        "- Bagaimana variasi harga per malam perbulannya?\n",
        "- Bagaimana harga permalamnya dari tipe kamarnya?\n",
        "- Rata-rata Market Segment dan Tipe Kamar"
      ]
    },
    {
      "cell_type": "markdown",
      "metadata": {
        "id": "H-z4QGlO8DC1"
      },
      "source": [
        "## Import Semua Packages/Library yang Digunakan"
      ]
    },
    {
      "cell_type": "code",
      "execution_count": null,
      "metadata": {
        "id": "FVYwaObI8DC1"
      },
      "outputs": [],
      "source": [
        "import pandas as pd\n",
        "import numpy as np\n",
        "import seaborn as sns\n",
        "import plotly.express as px\n",
        "import datetime\n",
        "import matplotlib.pyplot as plt\n",
        "from datetime import datetime, timedelta\n",
        "sns.set(rc={'figure.figsize':(15,7.5)})\n",
        "from datetime import datetime"
      ]
    },
    {
      "cell_type": "markdown",
      "metadata": {
        "id": "h_Sh51Xy8DC1"
      },
      "source": [
        "## Data Wrangling"
      ]
    },
    {
      "cell_type": "markdown",
      "metadata": {
        "id": "sXU2GBYu8DC1"
      },
      "source": [
        "### Gathering Data"
      ]
    },
    {
      "cell_type": "code",
      "execution_count": null,
      "metadata": {},
      "outputs": [],
      "source": [
        "df = pd.read_csv(\"hotel_bookings.csv\")"
      ]
    },
    {
      "cell_type": "code",
      "execution_count": null,
      "metadata": {},
      "outputs": [],
      "source": [
        "pd.set_option('display.max_columns', None)\n",
        "df"
      ]
    },
    {
      "cell_type": "markdown",
      "metadata": {
        "id": "FHSiqaZp8DC1"
      },
      "source": [
        "### Assessing Data"
      ]
    },
    {
      "cell_type": "code",
      "execution_count": null,
      "metadata": {
        "id": "ax-3tEjc9Cj1"
      },
      "outputs": [],
      "source": [
        "df[df.duplicated(keep=False)]"
      ]
    },
    {
      "cell_type": "code",
      "execution_count": null,
      "metadata": {},
      "outputs": [],
      "source": [
        "df.drop_duplicates(inplace=True)\n",
        "df.info()"
      ]
    },
    {
      "cell_type": "code",
      "execution_count": null,
      "metadata": {},
      "outputs": [],
      "source": [
        "df.isnull().sum()"
      ]
    },
    {
      "cell_type": "markdown",
      "metadata": {
        "id": "EhN5R4hr8DC1"
      },
      "source": [
        "### Cleaning Data"
      ]
    },
    {
      "cell_type": "code",
      "execution_count": null,
      "metadata": {},
      "outputs": [],
      "source": [
        "df.drop('company', axis=1, inplace=True)\n",
        "df.drop('agent', axis=1, inplace=True)"
      ]
    },
    {
      "cell_type": "code",
      "execution_count": null,
      "metadata": {
        "id": "jVnYpprE9Evz"
      },
      "outputs": [],
      "source": [
        "df[\"country\"].fillna(df[\"country\"].mode()[0],inplace=True)\n",
        "df.describe()"
      ]
    },
    {
      "cell_type": "code",
      "execution_count": null,
      "metadata": {},
      "outputs": [],
      "source": [
        "df[\"meal\"].replace(\"Undefined\", \"SC\", inplace=True)"
      ]
    },
    {
      "cell_type": "code",
      "execution_count": null,
      "metadata": {},
      "outputs": [],
      "source": [
        "df[\"children\"].value_counts()"
      ]
    },
    {
      "cell_type": "code",
      "execution_count": null,
      "metadata": {},
      "outputs": [],
      "source": [
        "df.sort_values('children',ascending = False)"
      ]
    },
    {
      "cell_type": "code",
      "execution_count": null,
      "metadata": {},
      "outputs": [],
      "source": [
        "df.drop(328, axis=0, inplace=True)"
      ]
    },
    {
      "cell_type": "code",
      "execution_count": null,
      "metadata": {},
      "outputs": [],
      "source": [
        "df[\"babies\"].value_counts()"
      ]
    },
    {
      "cell_type": "code",
      "execution_count": null,
      "metadata": {},
      "outputs": [],
      "source": [
        "df.sort_values('babies',ascending = False)"
      ]
    },
    {
      "cell_type": "code",
      "execution_count": null,
      "metadata": {},
      "outputs": [],
      "source": [
        "df.drop([46619,78656], axis=0, inplace=True)"
      ]
    },
    {
      "cell_type": "code",
      "execution_count": null,
      "metadata": {},
      "outputs": [],
      "source": [
        "df[\"children\"]=df[\"children\"].fillna(0.0).astype(int)"
      ]
    },
    {
      "cell_type": "code",
      "execution_count": null,
      "metadata": {},
      "outputs": [],
      "source": [
        "df['reservation_status_date'] = pd.to_datetime(df['reservation_status_date'], format='%Y/%m/%d', errors='coerce')"
      ]
    },
    {
      "cell_type": "code",
      "execution_count": null,
      "metadata": {},
      "outputs": [],
      "source": [
        "df[\"adr\"].value_counts(ascending=False)"
      ]
    },
    {
      "cell_type": "code",
      "execution_count": null,
      "metadata": {},
      "outputs": [],
      "source": [
        "adr_index =pd.DataFrame(df.loc[df['adr'] == 0.00]).index"
      ]
    },
    {
      "cell_type": "code",
      "execution_count": null,
      "metadata": {},
      "outputs": [],
      "source": [
        "df.drop(adr_index, axis=0, inplace=True)"
      ]
    },
    {
      "cell_type": "code",
      "execution_count": null,
      "metadata": {},
      "outputs": [],
      "source": [
        "df[\"distribution_channel\"].value_counts()"
      ]
    },
    {
      "cell_type": "code",
      "execution_count": null,
      "metadata": {},
      "outputs": [],
      "source": [
        "distribution_channel_index = df.loc[df['distribution_channel'] == \"Undefined\"].index"
      ]
    },
    {
      "cell_type": "code",
      "execution_count": null,
      "metadata": {},
      "outputs": [],
      "source": [
        "df.drop(distribution_channel_index, axis=0, inplace=True)"
      ]
    },
    {
      "cell_type": "code",
      "execution_count": null,
      "metadata": {},
      "outputs": [],
      "source": [
        "df[\"reservation_status\"].value_counts()"
      ]
    },
    {
      "cell_type": "code",
      "execution_count": null,
      "metadata": {},
      "outputs": [],
      "source": [
        "reservation_status_index = df.loc[df['reservation_status'] == \"No-Show\"].index"
      ]
    },
    {
      "cell_type": "code",
      "execution_count": null,
      "metadata": {},
      "outputs": [],
      "source": [
        "df.drop(reservation_status_index, axis=0, inplace=True)"
      ]
    },
    {
      "cell_type": "code",
      "execution_count": null,
      "metadata": {},
      "outputs": [],
      "source": [
        "lead_time_index = df.loc[df['lead_time'] == 0].index"
      ]
    },
    {
      "cell_type": "code",
      "execution_count": null,
      "metadata": {},
      "outputs": [],
      "source": [
        "df.drop(lead_time_index , axis=0,inplace = True)"
      ]
    },
    {
      "cell_type": "code",
      "execution_count": null,
      "metadata": {},
      "outputs": [],
      "source": [
        "sns.boxplot(x=\"adr\",data=df)"
      ]
    },
    {
      "cell_type": "code",
      "execution_count": null,
      "metadata": {},
      "outputs": [],
      "source": [
        "df.sort_values('adr',ascending = False)"
      ]
    },
    {
      "cell_type": "code",
      "execution_count": null,
      "metadata": {},
      "outputs": [],
      "source": [
        "df.drop([48515,14969] , axis=0,inplace = True)"
      ]
    },
    {
      "cell_type": "code",
      "execution_count": null,
      "metadata": {},
      "outputs": [],
      "source": [
        "adult_index = df.loc[df['adults'] < 1].index\n",
        "adult_index"
      ]
    },
    {
      "cell_type": "code",
      "execution_count": null,
      "metadata": {},
      "outputs": [],
      "source": [
        "df.drop(adult_index , axis=0,inplace = True)"
      ]
    },
    {
      "cell_type": "code",
      "execution_count": null,
      "metadata": {},
      "outputs": [],
      "source": [
        "df[\"required_car_parking_spaces\"].value_counts()"
      ]
    },
    {
      "cell_type": "code",
      "execution_count": null,
      "metadata": {},
      "outputs": [],
      "source": [
        "df.sort_values(\"required_car_parking_spaces\",ascending=False)"
      ]
    },
    {
      "cell_type": "code",
      "execution_count": null,
      "metadata": {},
      "outputs": [],
      "source": [
        "df.drop([29045,29046],axis=0,inplace=True)\n",
        "df.describe()"
      ]
    },
    {
      "cell_type": "markdown",
      "metadata": {
        "id": "gp-Y6wU38DC1"
      },
      "source": [
        "## Exploratory Data Analysis (EDA)"
      ]
    },
    {
      "cell_type": "markdown",
      "metadata": {
        "id": "MW7WF2kr8DC1"
      },
      "source": [
        "### Explore ..."
      ]
    },
    {
      "cell_type": "code",
      "execution_count": null,
      "metadata": {
        "id": "e9CQCZjk8DC2"
      },
      "outputs": [],
      "source": [
        "#collect arrival date in one column\n",
        "df['arrival_date'] = df[[\"arrival_date_year\",\"arrival_date_month\",\"arrival_date_day_of_month\"]].apply(lambda x: '/'.join(x.dropna().astype(str)),axis=1)"
      ]
    },
    {
      "cell_type": "code",
      "execution_count": null,
      "metadata": {},
      "outputs": [],
      "source": [
        "#convert arrival date to date format\n",
        "df['arrival_date'] = pd.to_datetime(df['arrival_date'], format='%Y/%B/%d', errors='coerce')"
      ]
    },
    {
      "cell_type": "code",
      "execution_count": null,
      "metadata": {},
      "outputs": [],
      "source": [
        "df[\"Total_Guests\"]=df[\"adults\"]+df[\"children\"]"
      ]
    },
    {
      "cell_type": "code",
      "execution_count": null,
      "metadata": {},
      "outputs": [],
      "source": [
        "total_guests_index = df.loc[df['Total_Guests'] == 0].index"
      ]
    },
    {
      "cell_type": "code",
      "execution_count": null,
      "metadata": {},
      "outputs": [],
      "source": [
        "df.drop(total_guests_index, axis=0, inplace=True)"
      ]
    },
    {
      "cell_type": "code",
      "execution_count": null,
      "metadata": {},
      "outputs": [],
      "source": [
        "def season(x):\n",
        "    if x in ['December','January','February']:\n",
        "        return \"Winter\"\n",
        "    if x in['March','April','May']:\n",
        "        return \"Spring\"\n",
        "    if x in['June','July', 'August']:\n",
        "        return \"Summer\"\n",
        "    if x in['September', 'October', 'November']:\n",
        "        return \"Autumn\""
      ]
    },
    {
      "cell_type": "code",
      "execution_count": null,
      "metadata": {},
      "outputs": [],
      "source": [
        "df['Seasons']=df['arrival_date_month'].apply(season)"
      ]
    },
    {
      "cell_type": "code",
      "execution_count": null,
      "metadata": {},
      "outputs": [],
      "source": [
        "df[\"Total_Days\"]=df[\"stays_in_weekend_nights\"]+df[\"stays_in_week_nights\"]"
      ]
    },
    {
      "cell_type": "markdown",
      "metadata": {
        "id": "zsyZjqak8DC2"
      },
      "source": [
        "## Visualization & Explanatory Analysis"
      ]
    },
    {
      "cell_type": "code",
      "execution_count": null,
      "metadata": {},
      "outputs": [],
      "source": [
        "resort_hotel_df = df.loc[(df[\"hotel\"] == \"Resort Hotel\") & (df[\"is_canceled\"] == 0)]\n",
        "city_hotel_df =df.loc[(df[\"hotel\"] == \"City Hotel\") & (df[\"is_canceled\"] == 0)]"
      ]
    },
    {
      "attachments": {},
      "cell_type": "markdown",
      "metadata": {
        "id": "HZxOiQ6n8DC2"
      },
      "source": [
        "### Pertanyaan 1: Bagaimana variasi harga menurut musim?"
      ]
    },
    {
      "cell_type": "code",
      "execution_count": null,
      "metadata": {
        "id": "1swJUdAD8DC2"
      },
      "outputs": [],
      "source": [
        "sns.barplot(data = city_hotel_df , x='Seasons' , y ='adr')\n",
        "plt.title(\"Average Room price per night and person over the season in City\", fontsize=16)\n",
        "plt.xlabel(\"Seasons\", fontsize=16)\n",
        "plt.ylabel(\"Price\", fontsize=16)\n",
        "plt.show()"
      ]
    },
    {
      "cell_type": "code",
      "execution_count": null,
      "metadata": {},
      "outputs": [],
      "source": [
        "sns.barplot(data = resort_hotel_df , x='Seasons' , y ='adr')\n",
        "plt.title(\"Average Room price per night and person over the season in Resort\", fontsize=16)\n",
        "plt.xlabel(\"Seasons\", fontsize=16)\n",
        "plt.ylabel(\"Price\", fontsize=16)\n",
        "plt.show()"
      ]
    },
    {
      "attachments": {},
      "cell_type": "markdown",
      "metadata": {
        "id": "DgHI7CiU8DC2"
      },
      "source": [
        "### Pertanyaan 2: Bagaimana variasi harga per malam perbulannya?"
      ]
    },
    {
      "cell_type": "code",
      "execution_count": null,
      "metadata": {
        "id": "Go0lCsvO8DC2"
      },
      "outputs": [],
      "source": [
        "resort_month=resort_hotel_df.groupby([\"arrival_date_month\"])[\"adr\"].mean().reset_index()\n",
        "city_month=city_hotel_df.groupby([\"arrival_date_month\"])[\"adr\"].mean().reset_index()\n",
        "ordered_months = [\"January\", \"February\", \"March\", \"April\", \"May\", \"June\",\n",
        "\"July\", \"August\", \"September\", \"October\", \"November\", \"December\"]\n",
        "resort_month.index = pd.CategoricalIndex(resort_month[\"arrival_date_month\"],categories = ordered_months,ordered=True)\n",
        "city_month.index = pd.CategoricalIndex(city_month[\"arrival_date_month\"],categories = ordered_months,ordered=True)\n",
        "resort_month = resort_month.sort_index()\n",
        "city_month = city_month.sort_index()"
      ]
    },
    {
      "cell_type": "code",
      "execution_count": null,
      "metadata": {},
      "outputs": [],
      "source": [
        "sns.barplot(data = city_month , x='arrival_date_month' , y ='adr')\n",
        "plt.xlabel(\"Month in city\", fontsize=16)\n",
        "plt.ylabel(\"Price\", fontsize=16)\n",
        "plt.show()"
      ]
    },
    {
      "cell_type": "code",
      "execution_count": null,
      "metadata": {},
      "outputs": [],
      "source": [
        "sns.barplot(data = resort_month , x='arrival_date_month' , y ='adr')\n",
        "plt.xlabel(\"Month in resort\", fontsize=16)\n",
        "plt.ylabel(\"Price\", fontsize=16)\n",
        "plt.show()"
      ]
    },
    {
      "attachments": {},
      "cell_type": "markdown",
      "metadata": {},
      "source": [
        "### Pertanyaan 3: Bagaimana harga permalamnya dari tipe kamarnya?"
      ]
    },
    {
      "cell_type": "code",
      "execution_count": null,
      "metadata": {},
      "outputs": [],
      "source": [
        "resort_room=resort_hotel_df.groupby([\"reserved_room_type\"])[\"adr\"].mean().reset_index()\n",
        "city_room=city_hotel_df.groupby([\"reserved_room_type\"])[\"adr\"].mean().reset_index()\n",
        "ordered_room = [\"A\",\"B\",\"C\",\"D\",\"E\",\"F\",\"G\",\"H\"]\n",
        "resort_room.index = pd.CategoricalIndex(resort_room[\"reserved_room_type\"],categories = ordered_room,ordered=True)\n",
        "city_room.index = pd.CategoricalIndex(city_room[\"reserved_room_type\"],categories = ordered_room,ordered=True)\n",
        "resort_room = resort_room.sort_index()\n",
        "city_room = city_room.sort_index()"
      ]
    },
    {
      "cell_type": "code",
      "execution_count": null,
      "metadata": {},
      "outputs": [],
      "source": [
        "sns.barplot(data = city_room , x='reserved_room_type' , y ='adr')\n",
        "plt.xlabel(\"room in city\", fontsize=16)\n",
        "plt.ylabel(\"Price\", fontsize=16)\n",
        "plt.show()"
      ]
    },
    {
      "cell_type": "code",
      "execution_count": null,
      "metadata": {},
      "outputs": [],
      "source": [
        "sns.barplot(data = resort_room , x='reserved_room_type' , y ='adr')\n",
        "plt.xlabel(\"room in resort\", fontsize=16)\n",
        "plt.ylabel(\"Price\", fontsize=16)\n",
        "plt.show()"
      ]
    },
    {
      "attachments": {},
      "cell_type": "markdown",
      "metadata": {},
      "source": [
        "### Pertanyaan 4: Rata-rata Market Segment dan Tipe Kamar"
      ]
    },
    {
      "cell_type": "code",
      "execution_count": null,
      "metadata": {},
      "outputs": [],
      "source": [
        "sns.barplot(data = city_hotel_df , x='market_segment' , y ='adr',hue=\"reserved_room_type\")\n",
        "plt.xlabel(\"Market segment for city\", fontsize=16)\n",
        "plt.ylabel(\"Price\", fontsize=16)\n",
        "plt.show()"
      ]
    },
    {
      "cell_type": "code",
      "execution_count": null,
      "metadata": {},
      "outputs": [],
      "source": [
        "sns.barplot(data = resort_hotel_df , x='market_segment' , y ='adr',hue=\"reserved_room_type\")\n",
        "plt.xlabel(\"Market segment for resort\", fontsize=16)\n",
        "plt.ylabel(\"Price\", fontsize=16)\n",
        "plt.show()"
      ]
    },
    {
      "cell_type": "markdown",
      "metadata": {},
      "source": [
        "## Membuat Model "
      ]
    },
    {
      "cell_type": "code",
      "execution_count": null,
      "metadata": {},
      "outputs": [],
      "source": [
        "df['reservation_status'] = df['reservation_status'].astype('category')\n",
        "y = df['reservation_status'].cat.codes\n",
        "y_names = list(df['reservation_status'].cat.categories)\n",
        "X = df.drop(columns=['reservation_status'])"
      ]
    },
    {
      "cell_type": "code",
      "execution_count": null,
      "metadata": {},
      "outputs": [],
      "source": [
        "X.drop([\"country\",\"is_canceled\",'arrival_date_year', 'arrival_date_month', 'arrival_date_week_number','arrival_date_day_of_month',\"meal\",\"assigned_room_type\",\"adr\",\"required_car_parking_spaces\",\"reservation_status_date\",\"adults\",\"children\",\"babies\",\"days_in_waiting_list\",\"arrival_date\",\"Total_Days\"],axis=1,inplace=True)"
      ]
    },
    {
      "cell_type": "code",
      "execution_count": null,
      "metadata": {},
      "outputs": [],
      "source": [
        "X = pd.get_dummies(X, drop_first=True)"
      ]
    },
    {
      "cell_type": "markdown",
      "metadata": {},
      "source": [
        "### Training Model"
      ]
    },
    {
      "cell_type": "code",
      "execution_count": null,
      "metadata": {},
      "outputs": [],
      "source": [
        "from sklearn.model_selection import train_test_split\n",
        "x_train,x_test,y_train,y_test = train_test_split(X,y,test_size=0.2,random_state=1,stratify=y)"
      ]
    },
    {
      "cell_type": "code",
      "execution_count": null,
      "metadata": {},
      "outputs": [],
      "source": [
        "from sklearn.preprocessing import StandardScaler\n",
        "scaler = StandardScaler()\n",
        "x_train_scaled = scaler.fit_transform(x_train)\n",
        "x_test_scaled = scaler.transform(x_test)"
      ]
    },
    {
      "attachments": {},
      "cell_type": "markdown",
      "metadata": {},
      "source": [
        "### SVM\n"
      ]
    },
    {
      "cell_type": "code",
      "execution_count": null,
      "metadata": {},
      "outputs": [],
      "source": [
        "start_time = datetime.now()\n",
        "from sklearn.svm import SVC\n",
        "from sklearn.metrics import classification_report\n",
        "svm = SVC(kernel='rbf')\n",
        "svm.fit(x_train_scaled,y_train)\n",
        "y_pred = svm.predict(x_test_scaled)\n",
        "print(classification_report(svm.predict(x_train_scaled),y_train))\n",
        "print(classification_report(y_pred,y_test))\n",
        "print(datetime.now())\n",
        "end_time = datetime.now()\n",
        "estimated = end_time-start_time\n",
        "print(estimated)"
      ]
    },
    {
      "cell_type": "markdown",
      "metadata": {},
      "source": [
        "### Evaluasi Model"
      ]
    },
    {
      "cell_type": "code",
      "execution_count": null,
      "metadata": {},
      "outputs": [],
      "source": [
        "start_time = datetime.now()\n",
        "from sklearn.model_selection import KFold\n",
        "from sklearn.model_selection import cross_validate\n",
        "kfold =KFold(n_splits=3)\n",
        "scores = cross_validate(svm,x_train_scaled,y_train,cv=kfold)\n",
        "end_time = datetime.now()\n",
        "estimated = end_time-start_time\n",
        "print(estimated)"
      ]
    },
    {
      "cell_type": "code",
      "execution_count": null,
      "metadata": {},
      "outputs": [],
      "source": [
        "scores"
      ]
    },
    {
      "cell_type": "code",
      "execution_count": null,
      "metadata": {},
      "outputs": [],
      "source": [
        "start_time = datetime.now()\n",
        "from sklearn.model_selection import GridSearchCV\n",
        "param = {'C':[1,2,3],'kernel':['linear','rbf',]}\n",
        "svm = SVC()\n",
        "grid_search =GridSearchCV(svm,param_grid=param,scoring='accuracy',cv = 3)\n",
        "grid_search.fit(x_train_scaled,y_train)\n",
        "end_time = datetime.now()\n",
        "estimated = end_time-start_time\n",
        "print(estimated)"
      ]
    },
    {
      "cell_type": "code",
      "execution_count": null,
      "metadata": {},
      "outputs": [],
      "source": [
        "grid_search.best_params_"
      ]
    },
    {
      "cell_type": "code",
      "execution_count": null,
      "metadata": {},
      "outputs": [],
      "source": [
        "svm = SVC(C=3,kernel ='rbf')\n",
        "svm.fit(x_train_scaled,y_train)\n",
        "y_pred = svm.predict(x_test_scaled)\n",
        "print(classification_report(y_test,y_pred))"
      ]
    },
    {
      "cell_type": "markdown",
      "metadata": {},
      "source": [
        "### Menyimpan Model"
      ]
    },
    {
      "cell_type": "code",
      "execution_count": null,
      "metadata": {},
      "outputs": [],
      "source": [
        "X = df.drop(columns=['reservation_status'])"
      ]
    },
    {
      "cell_type": "code",
      "execution_count": null,
      "metadata": {},
      "outputs": [],
      "source": [
        "X.drop([\"country\",\"is_canceled\",'arrival_date_year', 'arrival_date_month', 'arrival_date_week_number','arrival_date_day_of_month',\"meal\",\"assigned_room_type\",\"adr\",\"required_car_parking_spaces\",\"reservation_status_date\",\"adults\",\"children\",\"babies\",\"days_in_waiting_list\",\"arrival_date\"],axis=1,inplace=True)"
      ]
    },
    {
      "cell_type": "code",
      "execution_count": null,
      "metadata": {},
      "outputs": [],
      "source": [
        "y = df['reservation_status'].cat.codes"
      ]
    },
    {
      "cell_type": "code",
      "execution_count": null,
      "metadata": {},
      "outputs": [],
      "source": [
        "from sklearn.model_selection import train_test_split\n",
        "x_train,x_test,y_train,y_test = train_test_split(X,y,test_size=0.2,random_state=1,stratify=y)"
      ]
    },
    {
      "cell_type": "code",
      "execution_count": null,
      "metadata": {},
      "outputs": [],
      "source": [
        "numeric_columns = x_train.select_dtypes(exclude='object').columns"
      ]
    },
    {
      "cell_type": "code",
      "execution_count": null,
      "metadata": {},
      "outputs": [],
      "source": [
        "cat_columns = x_train.select_dtypes(include='object').columns"
      ]
    },
    {
      "cell_type": "code",
      "execution_count": null,
      "metadata": {},
      "outputs": [],
      "source": [
        "from sklearn.pipeline import Pipeline\n",
        "from sklearn.impute import SimpleImputer\n",
        "from sklearn.preprocessing import StandardScaler\n",
        "from sklearn.preprocessing import OneHotEncoder\n",
        "numeric_transformer = Pipeline([('imputer', SimpleImputer(strategy='median')),\n",
        "                               ('scaler', StandardScaler(with_mean=False))])\n",
        "cat_transformer = Pipeline([('imputer', SimpleImputer(strategy='most_frequent')),\n",
        "                            ('onehot', OneHotEncoder()),\n",
        "                            ('scaler', StandardScaler(with_mean=False))])"
      ]
    },
    {
      "cell_type": "code",
      "execution_count": null,
      "metadata": {},
      "outputs": [],
      "source": [
        "from sklearn.compose import ColumnTransformer\n",
        "preprocessor = ColumnTransformer(\n",
        "     transformers=[\n",
        "          ('num', numeric_transformer, numeric_columns),\n",
        "          ('cat', cat_transformer, cat_columns)])"
      ]
    },
    {
      "cell_type": "code",
      "execution_count": null,
      "metadata": {},
      "outputs": [],
      "source": [
        "from sklearn.svm import SVC\n",
        "pipe = Pipeline([('processing',preprocessor),('model',SVC(C=3,kernel ='rbf'))])\n",
        "pipe.fit(x_train,y_train)"
      ]
    },
    {
      "cell_type": "code",
      "execution_count": null,
      "metadata": {},
      "outputs": [],
      "source": [
        "preprocessor"
      ]
    },
    {
      "cell_type": "code",
      "execution_count": null,
      "metadata": {},
      "outputs": [],
      "source": [
        "y_pred = pipe.predict(x_test)\n",
        "print(classification_report(y_test,y_pred))"
      ]
    },
    {
      "cell_type": "code",
      "execution_count": null,
      "metadata": {},
      "outputs": [],
      "source": [
        "import joblib\n",
        "save =  joblib.dump(pipe,'Hotel Prediction model.pkl')"
      ]
    },
    {
      "cell_type": "markdown",
      "metadata": {
        "id": "_WeHlCeX8DC2"
      },
      "source": [
        "## Conclusion"
      ]
    },
    {
      "attachments": {},
      "cell_type": "markdown",
      "metadata": {
        "id": "ZTcyR48Y8DC2"
      },
      "source": [
        "- Conclution pertanyaan 1:\n",
        "    - City dan Resort pada musim panas memiliki harga paling tinggi dengan nilai lebih dari 120\n",
        "    - Dilihat dari ketiga musim lainnya Resort jauh lebih murah dibandingkan dengan City\n",
        "\n",
        "- Conclution pertanyaan 2:\n",
        "    - Resort memiliki harga paling tinggi di bulan Agustus yang perbedaannya sangat jauh dengan bulan lainnya\n",
        "    - City harganya hampir sama namun jika dibandingkan dengan Resort harganya relatif tinggi\n",
        "\n",
        "- Conclution pertanyaan 3:\n",
        "    - Di City dan Resort, Room Type G memiliki harga tertinggi\n",
        "    \n",
        "- Conclution pertanyaan 4:\n",
        "    - Pemesanan secara direct sangat banyak dilihat di masing masing City dan Resort\n",
        "    - Complementary sangat sedikit"
      ]
    }
  ],
  "metadata": {
    "colab": {
      "provenance": []
    },
    "kernelspec": {
      "display_name": "Python 3",
      "language": "python",
      "name": "python3"
    },
    "language_info": {
      "codemirror_mode": {
        "name": "ipython",
        "version": 3
      },
      "file_extension": ".py",
      "mimetype": "text/x-python",
      "name": "python",
      "nbconvert_exporter": "python",
      "pygments_lexer": "ipython3",
      "version": "3.10.4"
    },
    "orig_nbformat": 4,
    "vscode": {
      "interpreter": {
        "hash": "972b3bf27e332e87b5379f2791f6ef9dfc79c71018c370b0d7423235e20fe4d7"
      }
    }
  },
  "nbformat": 4,
  "nbformat_minor": 0
}
